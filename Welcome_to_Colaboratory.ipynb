{
  "cells": [
    {
      "cell_type": "markdown",
      "metadata": {
        "id": "view-in-github",
        "colab_type": "text"
      },
      "source": [
        "<a href=\"https://colab.research.google.com/github/geniusrusho/pyhton-beginner-to-advance/blob/main/Welcome_to_Colaboratory.ipynb\" target=\"_parent\"><img src=\"https://colab.research.google.com/assets/colab-badge.svg\" alt=\"Open In Colab\"/></a>"
      ]
    },
    {
      "cell_type": "markdown",
      "metadata": {
        "id": "4_kCnsPUqS6o"
      },
      "source": [
        "# `Python beginner to advance ✈`\n",
        "\n",
        "> Indented block\n",
        "\n"
      ]
    },
    {
      "cell_type": "code",
      "source": [
        "first_name = \"ada\"\n",
        "last_name  = \"lovelace\"\n",
        "full_name  = f\"{first_name} {last_name}\"\n",
        "print(full_name)"
      ],
      "metadata": {
        "colab": {
          "base_uri": "https://localhost:8080/"
        },
        "id": "AkRA67yKLwcX",
        "outputId": "7f85cd18-586b-4c8b-a3f8-46d9aaf8f5ae"
      },
      "execution_count": 88,
      "outputs": [
        {
          "output_type": "stream",
          "name": "stdout",
          "text": [
            "ada lovelace\n"
          ]
        }
      ]
    },
    {
      "cell_type": "code",
      "source": [
        "favourite_language = 'python'\n",
        "favourite_language = favourite_language.rstrip()\n",
        "favourite_language\n"
      ],
      "metadata": {
        "colab": {
          "base_uri": "https://localhost:8080/",
          "height": 35
        },
        "id": "Xpd7UZjKMN99",
        "outputId": "3d4a5c9f-5db6-4130-9dc8-4527f4873863"
      },
      "execution_count": 89,
      "outputs": [
        {
          "output_type": "execute_result",
          "data": {
            "text/plain": [
              "'python'"
            ],
            "application/vnd.google.colaboratory.intrinsic+json": {
              "type": "string"
            }
          },
          "metadata": {},
          "execution_count": 89
        }
      ]
    },
    {
      "cell_type": "code",
      "source": [
        "bicycles = ['trek','cannondale','redline','specialized']\n",
        "print(bicycles[0].title())\n",
        "print(bicycles[1].title())\n",
        "print(bicycles[-1].title())"
      ],
      "metadata": {
        "colab": {
          "base_uri": "https://localhost:8080/"
        },
        "id": "vGdsiO_BO3Qc",
        "outputId": "d4e69e6b-29b7-4215-a320-7432fb10a19e"
      },
      "execution_count": 90,
      "outputs": [
        {
          "output_type": "stream",
          "name": "stdout",
          "text": [
            "Trek\n",
            "Cannondale\n",
            "Specialized\n"
          ]
        }
      ]
    },
    {
      "cell_type": "code",
      "source": [
        "bicycles = ['trek','cannondale','redline','specialized']\n",
        "lest_owned = bicycles.pop()\n",
        "print(f\"The last motorcycle i owned was a {lest_owned.title()}.\")\n"
      ],
      "metadata": {
        "outputId": "16db416b-4b4c-42a6-edd1-e8c72b637a86",
        "colab": {
          "base_uri": "https://localhost:8080/"
        },
        "id": "m_bde2qWQI0G"
      },
      "execution_count": 91,
      "outputs": [
        {
          "output_type": "stream",
          "name": "stdout",
          "text": [
            "The last motorcycle i owned was a Specialized.\n"
          ]
        }
      ]
    },
    {
      "cell_type": "code",
      "source": [
        "cars = ['bmw','audi','toyta','subaru']\n",
        "cars.sort(reverse=True)\n",
        "print(cars)"
      ],
      "metadata": {
        "colab": {
          "base_uri": "https://localhost:8080/"
        },
        "id": "Za8bfbqBSLsK",
        "outputId": "fda94abe-3eeb-4a37-a134-56cc78a7088d"
      },
      "execution_count": 92,
      "outputs": [
        {
          "output_type": "stream",
          "name": "stdout",
          "text": [
            "['toyta', 'subaru', 'bmw', 'audi']\n"
          ]
        }
      ]
    },
    {
      "cell_type": "code",
      "source": [
        "magicians = ['alice','david','carolina']\n",
        "for magician in magicians:\n",
        "  print(magician)"
      ],
      "metadata": {
        "colab": {
          "base_uri": "https://localhost:8080/"
        },
        "id": "LkdSIE6zPZ-t",
        "outputId": "c5484b52-78b5-439b-eeb9-dd283594ae62"
      },
      "execution_count": 93,
      "outputs": [
        {
          "output_type": "stream",
          "name": "stdout",
          "text": [
            "alice\n",
            "david\n",
            "carolina\n"
          ]
        }
      ]
    },
    {
      "cell_type": "code",
      "source": [
        "for value in range(1,5):\n",
        "  print(value)"
      ],
      "metadata": {
        "colab": {
          "base_uri": "https://localhost:8080/"
        },
        "id": "wnLT3JTmb8Pc",
        "outputId": "336280e6-3840-4ef5-f993-9095c10c7eb0"
      },
      "execution_count": 94,
      "outputs": [
        {
          "output_type": "stream",
          "name": "stdout",
          "text": [
            "1\n",
            "2\n",
            "3\n",
            "4\n"
          ]
        }
      ]
    },
    {
      "cell_type": "code",
      "source": [
        "numbers = list(range(1,6))"
      ],
      "metadata": {
        "id": "7eHxUw2BcnLp"
      },
      "execution_count": 95,
      "outputs": []
    },
    {
      "cell_type": "code",
      "source": [
        "print(numbers)"
      ],
      "metadata": {
        "colab": {
          "base_uri": "https://localhost:8080/"
        },
        "id": "ca-pYV8XcwCP",
        "outputId": "98ddd5ef-0d9f-4928-9331-e84a42c87319"
      },
      "execution_count": 96,
      "outputs": [
        {
          "output_type": "stream",
          "name": "stdout",
          "text": [
            "[1, 2, 3, 4, 5]\n"
          ]
        }
      ]
    },
    {
      "cell_type": "code",
      "source": [
        "even_numbers = list(range(2,11,2))\n",
        "print(even_numbers)"
      ],
      "metadata": {
        "colab": {
          "base_uri": "https://localhost:8080/"
        },
        "id": "79sSPdwxc0xf",
        "outputId": "fd69cac4-453b-4c90-bd1e-816b8a8521d0"
      },
      "execution_count": 97,
      "outputs": [
        {
          "output_type": "stream",
          "name": "stdout",
          "text": [
            "[2, 4, 6, 8, 10]\n"
          ]
        }
      ]
    },
    {
      "cell_type": "markdown",
      "source": [
        "# **USING RANGE FUNCTION IN LISTS**\n",
        "\n",
        "---\n",
        "\n"
      ],
      "metadata": {
        "id": "JvJtk-gsdUbl"
      }
    },
    {
      "cell_type": "code",
      "source": [
        "squares = [value**2 for value in range(1,11)]\n",
        "print(squares)"
      ],
      "metadata": {
        "colab": {
          "base_uri": "https://localhost:8080/"
        },
        "id": "JpG47w2GdcQl",
        "outputId": "bbf867a1-e080-42b1-860e-e8e00793b04d"
      },
      "execution_count": 98,
      "outputs": [
        {
          "output_type": "stream",
          "name": "stdout",
          "text": [
            "[1, 4, 9, 16, 25, 36, 49, 64, 81, 100]\n"
          ]
        }
      ]
    },
    {
      "cell_type": "code",
      "source": [
        "players = ['Rusho','Rudro','Tusho']\n",
        "print(players[0:3])"
      ],
      "metadata": {
        "colab": {
          "base_uri": "https://localhost:8080/"
        },
        "id": "NJxupRFKg169",
        "outputId": "33de850a-fa03-4122-a395-ce95ff2cd107"
      },
      "execution_count": 99,
      "outputs": [
        {
          "output_type": "stream",
          "name": "stdout",
          "text": [
            "['Rusho', 'Rudro', 'Tusho']\n"
          ]
        }
      ]
    },
    {
      "cell_type": "code",
      "source": [
        "print(players[-3:])"
      ],
      "metadata": {
        "colab": {
          "base_uri": "https://localhost:8080/"
        },
        "id": "9XinK8gAhPAr",
        "outputId": "c1befc93-b7ec-4efc-aecd-0cd7cac12a3b"
      },
      "execution_count": 100,
      "outputs": [
        {
          "output_type": "stream",
          "name": "stdout",
          "text": [
            "['Rusho', 'Rudro', 'Tusho']\n"
          ]
        }
      ]
    },
    {
      "cell_type": "code",
      "source": [
        "age = 19\n",
        "if age>=18:\n",
        "  print(\"You are old enough to vote\")\n",
        "  print(\"Have you registered to vote yet?\")\n",
        "else:\n",
        "  print(\"Sorry!\")"
      ],
      "metadata": {
        "colab": {
          "base_uri": "https://localhost:8080/"
        },
        "id": "lqtQRf95hT4Q",
        "outputId": "da490c49-65a4-4b66-9b5c-6648aad08458"
      },
      "execution_count": 101,
      "outputs": [
        {
          "output_type": "stream",
          "name": "stdout",
          "text": [
            "You are old enough to vote\n",
            "Have you registered to vote yet?\n"
          ]
        }
      ]
    },
    {
      "cell_type": "markdown",
      "source": [
        "# **Omitting the else Block**"
      ],
      "metadata": {
        "id": "8gOqROnSkfwG"
      }
    },
    {
      "cell_type": "code",
      "source": [
        "age = 12\n",
        "if age<4:\n",
        "  price = 0\n",
        "elif age<18:\n",
        "  price = 25\n",
        "print(f\"admission cost is ${price}\")"
      ],
      "metadata": {
        "colab": {
          "base_uri": "https://localhost:8080/"
        },
        "id": "z--pDNUQk1e4",
        "outputId": "8793ec93-e3e6-4899-a5ab-ad32501fdecf"
      },
      "execution_count": 102,
      "outputs": [
        {
          "output_type": "stream",
          "name": "stdout",
          "text": [
            "admission cost is $25\n"
          ]
        }
      ]
    },
    {
      "cell_type": "markdown",
      "source": [
        "# **TESTING MULTIPLE CONDITIONS**"
      ],
      "metadata": {
        "id": "9QU2luq-l2sp"
      }
    },
    {
      "cell_type": "code",
      "source": [
        "requested_toppings = [\"mushrooms\",'extra cheese']\n",
        "if 'mushrooms' in requested_toppings:\n",
        "  print(\"Adding mushrooms.\")\n",
        "  if 'pepperoni'in requested_toppings:\n",
        "    print(\"Adding peperoni\")\n",
        "    print(\"\\nFinished making your pizza\")\n"
      ],
      "metadata": {
        "colab": {
          "base_uri": "https://localhost:8080/"
        },
        "id": "8YWXZu4dl8HY",
        "outputId": "c58edbb6-d023-435f-cb83-d8cd62a3f87f"
      },
      "execution_count": 103,
      "outputs": [
        {
          "output_type": "stream",
          "name": "stdout",
          "text": [
            "Adding mushrooms.\n"
          ]
        }
      ]
    },
    {
      "cell_type": "markdown",
      "source": [
        "# **CHEKING FOR SPECIAL ITEMS**"
      ],
      "metadata": {
        "id": "K1GfEgA6oWoy"
      }
    },
    {
      "cell_type": "code",
      "source": [
        "requested_toppings = ['mushrooms','green peppers','extra cheese']\n",
        "for requested_toppings in requested_toppings:\n",
        "  print(f\"Adding{requested_toppings}.\")\n",
        "  print(\"\\n Finishing making your pizzas!!Hurray\")\n",
        "  #THIS THE SPECIAL CONDITION"
      ],
      "metadata": {
        "colab": {
          "base_uri": "https://localhost:8080/"
        },
        "id": "bYvMel2zpHdl",
        "outputId": "05e0bdd3-e545-43a0-8aee-e8d7ae113ada"
      },
      "execution_count": 104,
      "outputs": [
        {
          "output_type": "stream",
          "name": "stdout",
          "text": [
            "Addingmushrooms.\n",
            "\n",
            " Finishing making your pizzas!!Hurray\n",
            "Addinggreen peppers.\n",
            "\n",
            " Finishing making your pizzas!!Hurray\n",
            "Addingextra cheese.\n",
            "\n",
            " Finishing making your pizzas!!Hurray\n"
          ]
        }
      ]
    },
    {
      "cell_type": "code",
      "source": [],
      "metadata": {
        "id": "Dh_7sDwa0Fxj"
      },
      "execution_count": 104,
      "outputs": []
    },
    {
      "cell_type": "markdown",
      "source": [
        "## **#DICTIONARY**\n",
        "\n"
      ],
      "metadata": {
        "id": "vUehucJ-4Y9R"
      }
    },
    {
      "cell_type": "code",
      "source": [
        "alien_0 = {'x_position': 2,'y_position':25,'speed':'medium'}\n",
        "print(f\"Original position: {alien_0['x_position']}\")\n",
        "#move the alien position to the right.\n",
        "#Determine how far to move the alien based on its current speed\n",
        "if alien_0['speed']=='slow':\n",
        "  x_Increment =1\n",
        "elif alien_0['speed'] =='medium':\n",
        "  x_Increment = 2\n",
        "else:\n",
        "  #This must be a fast alien\n",
        "  x_Increment =3\n",
        "  #The new position is the old+present position\n",
        "  alien_0['x_position'] = alien_0['x_position'] + x_Increment\n",
        "  print(f\"New positon: {alien_0['x_position']}\")\n",
        "\n",
        "\n",
        "\n",
        "\n"
      ],
      "metadata": {
        "id": "k_jTAkEr4kkk",
        "outputId": "e55c781f-5969-412d-a561-fa9ebde051a2",
        "colab": {
          "base_uri": "https://localhost:8080/"
        }
      },
      "execution_count": 105,
      "outputs": [
        {
          "output_type": "stream",
          "name": "stdout",
          "text": [
            "Original position: 2\n"
          ]
        }
      ]
    },
    {
      "cell_type": "markdown",
      "source": [
        "**# A DCITONARY OF SIMILAR OBJECT**\n"
      ],
      "metadata": {
        "id": "mcKgn-Zi8vR3"
      }
    },
    {
      "cell_type": "code",
      "source": [
        "favourite_language = {\n",
        "    'jen':'python',\n",
        "    'sarah':'c',\n",
        "\n",
        "}\n",
        "favourite_language['sarah']"
      ],
      "metadata": {
        "id": "nsxf2AcV8_L0",
        "outputId": "a0537b3e-1fa9-4c9c-bb55-f519eaebc653",
        "colab": {
          "base_uri": "https://localhost:8080/",
          "height": 35
        }
      },
      "execution_count": 106,
      "outputs": [
        {
          "output_type": "execute_result",
          "data": {
            "text/plain": [
              "'c'"
            ],
            "application/vnd.google.colaboratory.intrinsic+json": {
              "type": "string"
            }
          },
          "metadata": {},
          "execution_count": 106
        }
      ]
    },
    {
      "cell_type": "markdown",
      "source": [
        "# **using get() to Access Values**"
      ],
      "metadata": {
        "id": "4gHU7LTF9uLh"
      }
    },
    {
      "cell_type": "code",
      "source": [
        "alien_0 = {'color':'green','speed':'slow'}\n",
        "point_value = alien_0.get('points','No point value assigned')\n",
        "print(point_value)"
      ],
      "metadata": {
        "id": "tKm_ZLol925e",
        "outputId": "37d963db-31bf-4ab2-f39d-62c5b77754aa",
        "colab": {
          "base_uri": "https://localhost:8080/"
        }
      },
      "execution_count": 107,
      "outputs": [
        {
          "output_type": "stream",
          "name": "stdout",
          "text": [
            "No point value assigned\n"
          ]
        }
      ]
    },
    {
      "cell_type": "markdown",
      "source": [
        "### **LOOPING THROUGH A DICTIONARY**"
      ],
      "metadata": {
        "id": "vlUxzW5Q-9xr"
      }
    },
    {
      "cell_type": "code",
      "source": [
        "user_0 = {\n",
        "    'username':'efermi',\n",
        "    'first'  :'enrico' ,\n",
        "     'last'  : 'fermi',\n",
        "\n",
        "    \n",
        "}\n",
        "\n",
        "for key,value in user_0.items():\n",
        "    print(f\"\\nKey:{key}\")\n",
        "    print(f\"Value:{value}\")\n",
        "    \n"
      ],
      "metadata": {
        "id": "M3IBa3bHCQ7A",
        "outputId": "e3f5bfb9-a79e-4a84-8b83-6a6af6e2f625",
        "colab": {
          "base_uri": "https://localhost:8080/"
        }
      },
      "execution_count": 108,
      "outputs": [
        {
          "output_type": "stream",
          "name": "stdout",
          "text": [
            "\n",
            "Key:username\n",
            "Value:efermi\n",
            "\n",
            "Key:first\n",
            "Value:enrico\n",
            "\n",
            "Key:last\n",
            "Value:fermi\n"
          ]
        }
      ]
    },
    {
      "cell_type": "markdown",
      "source": [
        "### *`Looping Through a dictonary's key in a particular order::`*\n",
        "\n",
        "---\n",
        "\n",
        "\\:"
      ],
      "metadata": {
        "id": "fxFGpPgYFOgf"
      }
    },
    {
      "cell_type": "code",
      "source": [
        "favourite_language = {\n",
        "    'jen': 'python',\n",
        "    'sarah':'c',\n",
        "}\n",
        "for name in sorted(favourite_language.keys()):\n",
        "  print(f\"{name.title()},thank you for taking the poll.\")"
      ],
      "metadata": {
        "id": "nsTt1buhFhdK",
        "outputId": "c8bc4760-ddb7-456a-e3f0-696f714c7d67",
        "colab": {
          "base_uri": "https://localhost:8080/"
        }
      },
      "execution_count": 109,
      "outputs": [
        {
          "output_type": "stream",
          "name": "stdout",
          "text": [
            "Jen,thank you for taking the poll.\n",
            "Sarah,thank you for taking the poll.\n"
          ]
        }
      ]
    },
    {
      "cell_type": "code",
      "source": [
        "favourite_language ={}\n",
        "\n",
        "print(\"The following languages have been mentioned:\")\n",
        "for language in set(favourite_language.values()):\n",
        "  print(language.title())"
      ],
      "metadata": {
        "id": "8nxRYfmzHAEs",
        "outputId": "2c13c360-c6e2-44c4-b1e8-7226a8139325",
        "colab": {
          "base_uri": "https://localhost:8080/"
        }
      },
      "execution_count": 110,
      "outputs": [
        {
          "output_type": "stream",
          "name": "stdout",
          "text": [
            "The following languages have been mentioned:\n"
          ]
        }
      ]
    },
    {
      "cell_type": "markdown",
      "source": [
        "# **A dictonary in a dictionary **\n",
        "\n",
        "\n"
      ],
      "metadata": {
        "id": "V6p_sVSYJICN"
      }
    },
    {
      "cell_type": "code",
      "source": [
        "users = {\n",
        "    'aeinstein':{\n",
        "        'first':'albert',\n",
        "        'last' :'Einstein '\n",
        "        \n",
        "\n",
        "    },\n",
        "    'mcurie': {\n",
        "        'first':'marie',\n",
        "        'last' : 'curie'\n",
        "    }\n",
        "\n",
        "}#______"
      ],
      "metadata": {
        "id": "tvsWQYNOJRX2"
      },
      "execution_count": 112,
      "outputs": []
    }
  ],
  "metadata": {
    "colab": {
      "name": "Welcome to Colaboratory",
      "toc_visible": true,
      "provenance": [],
      "include_colab_link": true
    },
    "kernelspec": {
      "display_name": "Python 3",
      "name": "python3"
    }
  },
  "nbformat": 4,
  "nbformat_minor": 0
}